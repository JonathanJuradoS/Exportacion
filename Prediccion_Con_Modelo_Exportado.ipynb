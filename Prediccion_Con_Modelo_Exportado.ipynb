{
  "cells": [
    {
      "cell_type": "markdown",
      "metadata": {
        "id": "view-in-github",
        "colab_type": "text"
      },
      "source": [
        "<a href=\"https://colab.research.google.com/github/JonathanJuradoS/Exportacion/blob/main/Prediccion_Con_Modelo_Exportado.ipynb\" target=\"_parent\"><img src=\"https://colab.research.google.com/assets/colab-badge.svg\" alt=\"Open In Colab\"/></a>"
      ]
    },
    {
      "cell_type": "markdown",
      "id": "dac78e2f",
      "metadata": {
        "id": "dac78e2f"
      },
      "source": [
        "# 🧠 Uso del Modelo Exportado - Predicción de Candidato\n",
        "\n",
        "Este cuaderno carga el modelo previamente entrenado (`modelo_empleo_boosting.pkl`) y el preprocesador (`scaler_empleo_boosting.pkl`) para realizar predicciones sobre nuevos candidatos.\n"
      ]
    },
    {
      "cell_type": "markdown",
      "id": "a92c4a7b",
      "metadata": {
        "id": "a92c4a7b"
      },
      "source": [
        "### Paso 1: Importar librerías necesarias"
      ]
    },
    {
      "cell_type": "code",
      "execution_count": 1,
      "id": "3efab62f",
      "metadata": {
        "id": "3efab62f"
      },
      "outputs": [],
      "source": [
        "import pandas as pd\n",
        "import joblib\n",
        "from sklearn.preprocessing import StandardScaler"
      ]
    },
    {
      "cell_type": "markdown",
      "id": "3e472121",
      "metadata": {
        "id": "3e472121"
      },
      "source": [
        "### Paso 2: Cargar el modelo y el scaler exportados"
      ]
    },
    {
      "cell_type": "code",
      "execution_count": 2,
      "id": "8b4b6f4e",
      "metadata": {
        "colab": {
          "base_uri": "https://localhost:8080/"
        },
        "id": "8b4b6f4e",
        "outputId": "f6d5d1fc-d8a9-48ab-ec08-e7f7fcda19f5"
      },
      "outputs": [
        {
          "output_type": "stream",
          "name": "stdout",
          "text": [
            "Modelo y scaler cargados correctamente.\n"
          ]
        }
      ],
      "source": [
        "modelo = joblib.load(\"modelo_empleo_boosting.pkl\")\n",
        "scaler = joblib.load(\"scaler_empleo_boosting.pkl\")\n",
        "print(\"Modelo y scaler cargados correctamente.\")"
      ]
    },
    {
      "cell_type": "markdown",
      "id": "c53aaa91",
      "metadata": {
        "id": "c53aaa91"
      },
      "source": [
        "### Paso 3: Ingresar los datos del nuevo candidato"
      ]
    },
    {
      "cell_type": "code",
      "execution_count": 10,
      "id": "5611b64f",
      "metadata": {
        "id": "5611b64f"
      },
      "outputs": [],
      "source": [
        "nuevo_candidato = pd.DataFrame([{\n",
        "    \"experiencia_anios\": 17,\n",
        "    \"python_score\": 85,\n",
        "    \"sql_score\": 75,\n",
        "    \"java_score\": 100,\n",
        "    \"num_certificaciones\": 3,\n",
        "    \"proyectos_open_source\": 2,\n",
        "    \"puntaje_test_online\": 200,\n",
        "    \"disponibilidad_inmediata\": 1,\n",
        "    \"edad\": 29,\n",
        "    \"nivel_educacion_Maestria\": 1,\n",
        "    \"nivel_educacion_Tecnico\": 0,\n",
        "    \"nivel_educacion_Titulado\": 1\n",
        "}])"
      ]
    },
    {
      "cell_type": "markdown",
      "id": "dd6bdebe",
      "metadata": {
        "id": "dd6bdebe"
      },
      "source": [
        "### Paso 4: Preprocesamiento y predicción"
      ]
    },
    {
      "cell_type": "code",
      "execution_count": 11,
      "id": "fd83b2d3",
      "metadata": {
        "colab": {
          "base_uri": "https://localhost:8080/"
        },
        "id": "fd83b2d3",
        "outputId": "20cc5d2c-0643-44f3-cd42-3dc522f1230d"
      },
      "outputs": [
        {
          "output_type": "stream",
          "name": "stdout",
          "text": [
            "Resultado: ✅ Seleccionado para entrevista\n"
          ]
        }
      ],
      "source": [
        "# Normalizar el nuevo candidato\n",
        "nuevo_candidato_scaled = scaler.transform(nuevo_candidato)\n",
        "\n",
        "# Predicción\n",
        "prediccion = modelo.predict(nuevo_candidato_scaled)\n",
        "resultado = \"✅ Seleccionado para entrevista\" if prediccion[0] == 1 else \"❌ No seleccionado\"\n",
        "print(\"Resultado:\", resultado)"
      ]
    }
  ],
  "metadata": {
    "colab": {
      "provenance": [],
      "include_colab_link": true
    },
    "language_info": {
      "name": "python"
    },
    "kernelspec": {
      "name": "python3",
      "display_name": "Python 3"
    }
  },
  "nbformat": 4,
  "nbformat_minor": 5
}